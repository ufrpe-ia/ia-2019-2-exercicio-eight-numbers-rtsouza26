{
  "nbformat": 4,
  "nbformat_minor": 0,
  "metadata": {
    "kernelspec": {
      "display_name": "Python 3",
      "language": "python",
      "name": "python3"
    },
    "language_info": {
      "codemirror_mode": {
        "name": "ipython",
        "version": 3
      },
      "file_extension": ".py",
      "mimetype": "text/x-python",
      "name": "python",
      "nbconvert_exporter": "python",
      "pygments_lexer": "ipython3",
      "version": "3.7.1"
    },
    "colab": {
      "name": "ia-exercicio-eight-numbers.ipynb",
      "version": "0.3.2",
      "provenance": [],
      "toc_visible": true
    }
  },
  "cells": [
    {
      "cell_type": "markdown",
      "metadata": {
        "id": "RobNkl0sdZoZ",
        "colab_type": "text"
      },
      "source": [
        "# O jogos dos 8 números\n",
        "\n",
        "### Definição:\n",
        "Dado um arranjo aleatório do tabuleiro, fornecer a sequência de passos para chegar a solução (números ordenados)\n",
        "\n",
        "![text](http://www.aiai.ed.ac.uk/~gwickler/images/8-puzzle-states.png)"
      ]
    },
    {
      "cell_type": "code",
      "metadata": {
        "id": "LGgruN2SdZob",
        "colab_type": "code",
        "outputId": "dca10b1d-0a53-4ae9-fcc8-e51440892ca7",
        "colab": {
          "base_uri": "https://localhost:8080/",
          "height": 286
        }
      },
      "source": [
        "# eightpuzzle.py\n",
        "# --------------\n",
        "# Licensing Information:  You are free to use or extend these projects for\n",
        "# educational purposes provided that (1) you do not distribute or publish\n",
        "# solutions, (2) you retain this notice, and (3) you provide clear\n",
        "# attribution to UC Berkeley, including a link to http://ai.berkeley.edu.\n",
        "# \n",
        "# Attribution Information: The Pacman AI projects were developed at UC Berkeley.\n",
        "# The core projects and autograders were primarily created by John DeNero\n",
        "# (denero@cs.berkeley.edu) and Dan Klein (klein@cs.berkeley.edu).\n",
        "# Student side autograding was added by Brad Miller, Nick Hay, and\n",
        "# Pieter Abbeel (pabbeel@cs.berkeley.edu).\n",
        "\n",
        "\n",
        "import random\n",
        "\n",
        "\n",
        "class EightPuzzleState:\n",
        "    \"\"\"\n",
        "    The Eight Puzzle is described in the course textbook on\n",
        "    page 64.\n",
        "    This class defines the mechanics of the puzzle itself.  The\n",
        "    task of recasting this puzzle as a search problem is left to\n",
        "    the EightPuzzleSearchProblem class.\n",
        "    \"\"\"\n",
        "    def __init__( self, numbers ):\n",
        "        \"\"\"\n",
        "          Constructs a new eight puzzle from an ordering of numbers.\n",
        "        numbers: a list of integers from 0 to 8 representing an\n",
        "          instance of the eight puzzle.  0 represents the blank\n",
        "          space.  Thus, the list\n",
        "            [1, 0, 2, 3, 4, 5, 6, 7, 8]\n",
        "          represents the eight puzzle:\n",
        "            -------------\n",
        "            | 1 |   | 2 |\n",
        "            -------------\n",
        "            | 3 | 4 | 5 |\n",
        "            -------------\n",
        "            | 6 | 7 | 8 |\n",
        "            ------------\n",
        "        The configuration of the puzzle is stored in a 2-dimensional\n",
        "        list (a list of lists) 'cells'.\n",
        "        \"\"\"\n",
        "        self.cells = []\n",
        "        numbers = numbers[:] # Make a copy so as not to cause side-effects.\n",
        "        numbers.reverse()\n",
        "        for row in range( 3 ):\n",
        "            self.cells.append( [] )\n",
        "            for col in range( 3 ):\n",
        "                self.cells[row].append( numbers.pop() )\n",
        "                if self.cells[row][col] == 0:\n",
        "                    self.blankLocation = row, col\n",
        "\n",
        "    def isGoal( self ):\n",
        "        \"\"\"\n",
        "          Checks to see if the puzzle is in its goal state.\n",
        "            -------------\n",
        "            |   | 1 | 2 |\n",
        "            -------------\n",
        "            | 3 | 4 | 5 |\n",
        "            -------------\n",
        "            | 6 | 7 | 8 |\n",
        "            -------------\n",
        "        >>> EightPuzzleState([0, 1, 2, 3, 4, 5, 6, 7, 8]).isGoal()\n",
        "        True\n",
        "        >>> EightPuzzleState([1, 0, 2, 3, 4, 5, 6, 7, 8]).isGoal()\n",
        "        False\n",
        "        \"\"\"\n",
        "        current = 0\n",
        "        for row in range( 3 ):\n",
        "            for col in range( 3 ):\n",
        "                if current != self.cells[row][col]:\n",
        "                    return False\n",
        "                current += 1\n",
        "        return True\n",
        "\n",
        "    def legalMoves( self ):\n",
        "        \"\"\"\n",
        "          Returns a list of legal moves from the current state.\n",
        "        Moves consist of moving the blank space up, down, left or right.\n",
        "        These are encoded as 'up', 'down', 'left' and 'right' respectively.\n",
        "        >>> EightPuzzleState([0, 1, 2, 3, 4, 5, 6, 7, 8]).legalMoves()\n",
        "        ['down', 'right']\n",
        "        \"\"\"\n",
        "        moves = []\n",
        "        row, col = self.blankLocation\n",
        "        if(row != 0):\n",
        "            moves.append('up')\n",
        "        if(row != 2):\n",
        "            moves.append('down')\n",
        "        if(col != 0):\n",
        "            moves.append('left')\n",
        "        if(col != 2):\n",
        "            moves.append('right')\n",
        "        return moves\n",
        "\n",
        "    def result(self, move):\n",
        "        \"\"\"\n",
        "          Returns a new eightPuzzle with the current state and blankLocation\n",
        "        updated based on the provided move.\n",
        "        The move should be a string drawn from a list returned by legalMoves.\n",
        "        Illegal moves will raise an exception, which may be an array bounds\n",
        "        exception.\n",
        "        NOTE: This function *does not* change the current object.  Instead,\n",
        "        it returns a new object.\n",
        "        \"\"\"\n",
        "        row, col = self.blankLocation\n",
        "        if(move == 'up'):\n",
        "            newrow = row - 1\n",
        "            newcol = col\n",
        "        elif(move == 'down'):\n",
        "            newrow = row + 1\n",
        "            newcol = col\n",
        "        elif(move == 'left'):\n",
        "            newrow = row\n",
        "            newcol = col - 1\n",
        "        elif(move == 'right'):\n",
        "            newrow = row\n",
        "            newcol = col + 1\n",
        "        else:\n",
        "            raise \"Illegal Move\"\n",
        "\n",
        "        # Create a copy of the current eightPuzzle\n",
        "        newPuzzle = EightPuzzleState([0, 0, 0, 0, 0, 0, 0, 0, 0])\n",
        "        newPuzzle.cells = [values[:] for values in self.cells]\n",
        "        # And update it to reflect the move\n",
        "        newPuzzle.cells[row][col] = self.cells[newrow][newcol]\n",
        "        newPuzzle.cells[newrow][newcol] = self.cells[row][col]\n",
        "        newPuzzle.blankLocation = newrow, newcol\n",
        "        return newPuzzle\n",
        "\n",
        "    # Utilities for comparison and display\n",
        "    def __eq__(self, other):\n",
        "        \"\"\"\n",
        "            Overloads '==' such that two eightPuzzles with the same configuration\n",
        "          are equal.\n",
        "          >>> EightPuzzleState([0, 1, 2, 3, 4, 5, 6, 7, 8]) == \\\n",
        "              EightPuzzleState([1, 0, 2, 3, 4, 5, 6, 7, 8]).result('left')\n",
        "          True\n",
        "        \"\"\"\n",
        "        for row in range( 3 ):\n",
        "            if self.cells[row] != other.cells[row]:\n",
        "                return False\n",
        "        return True\n",
        "\n",
        "    def __hash__(self):\n",
        "        return hash(str(self.cells))\n",
        "\n",
        "    def __getAsciiString(self):\n",
        "        \"\"\"\n",
        "          Returns a display string for the maze\n",
        "        \"\"\"\n",
        "        lines = []\n",
        "        horizontalLine = ('-' * (13))\n",
        "        lines.append(horizontalLine)\n",
        "        for row in self.cells:\n",
        "            rowLine = '|'\n",
        "            for col in row:\n",
        "                if col == 0:\n",
        "                    col = ' '\n",
        "                rowLine = rowLine + ' ' + col.__str__() + ' |'\n",
        "            lines.append(rowLine)\n",
        "            lines.append(horizontalLine)\n",
        "        return '\\n'.join(lines)\n",
        "\n",
        "    def __str__(self):\n",
        "        return self.__getAsciiString()\n",
        "      \n",
        "print(EightPuzzleState(numbers=[1, 0, 2, 3, 4, 5, 6, 7, 8]))\n",
        "print(EightPuzzleState([0, 1, 2, 3, 4, 5, 6, 7, 8]).legalMoves())\n"
      ],
      "execution_count": 4,
      "outputs": [
        {
          "output_type": "stream",
          "text": [
            "-------------\n",
            "| 1 |   | 2 |\n",
            "-------------\n",
            "| 3 | 4 | 5 |\n",
            "-------------\n",
            "| 6 | 7 | 8 |\n",
            "-------------\n",
            "['down', 'right']\n",
            "['down', 'left', 'right']\n",
            "-------------\n",
            "| 1 | 4 | 2 |\n",
            "-------------\n",
            "| 3 |   | 5 |\n",
            "-------------\n",
            "| 6 | 7 | 8 |\n",
            "-------------\n"
          ],
          "name": "stdout"
        }
      ]
    },
    {
      "cell_type": "markdown",
      "metadata": {
        "id": "S6bVoQQ0dZoe",
        "colab_type": "text"
      },
      "source": [
        "## Criando uma instância do jogo:"
      ]
    },
    {
      "cell_type": "code",
      "metadata": {
        "id": "POqP8j-cdZof",
        "colab_type": "code",
        "outputId": "808dc6a4-5d7f-4652-8a05-533884c078a4",
        "colab": {
          "base_uri": "https://localhost:8080/",
          "height": 134
        }
      },
      "source": [
        "print(EightPuzzleState(numbers=[1, 0, 2, 3, 4, 5, 6, 7, 8]))"
      ],
      "execution_count": 5,
      "outputs": [
        {
          "output_type": "stream",
          "text": [
            "-------------\n",
            "| 1 |   | 2 |\n",
            "-------------\n",
            "| 3 | 4 | 5 |\n",
            "-------------\n",
            "| 6 | 7 | 8 |\n",
            "-------------\n"
          ],
          "name": "stdout"
        }
      ]
    },
    {
      "cell_type": "markdown",
      "metadata": {
        "id": "3wRJcBerdZoi",
        "colab_type": "text"
      },
      "source": [
        "## Algumas funcões auxiliares"
      ]
    },
    {
      "cell_type": "code",
      "metadata": {
        "id": "EhJE3u-kdZoi",
        "colab_type": "code",
        "outputId": "fc48921f-e17f-4885-aa71-fd45df473571",
        "colab": {
          "base_uri": "https://localhost:8080/",
          "height": 134
        }
      },
      "source": [
        "EIGHT_PUZZLE_DATA = [[1, 0, 2, 3, 4, 5, 6, 7, 8],\n",
        "                     [1, 7, 8, 2, 3, 4, 5, 6, 0],\n",
        "                     [4, 3, 2, 7, 0, 5, 1, 6, 8],\n",
        "                     [5, 1, 3, 4, 0, 2, 6, 7, 8],\n",
        "                     [1, 2, 5, 7, 6, 8, 0, 4, 3],\n",
        "                     [0, 3, 1, 6, 8, 2, 7, 5, 4]]\n",
        "\n",
        "def loadEightPuzzle(puzzleNumber):\n",
        "    \"\"\"\n",
        "      puzzleNumber: The number of the eight puzzle to load.\n",
        "      Returns an eight puzzle object generated from one of the\n",
        "      provided puzzles in EIGHT_PUZZLE_DATA.\n",
        "      puzzleNumber can range from 0 to 5.\n",
        "      >>> print loadEightPuzzle(0)\n",
        "      -------------\n",
        "      | 1 |   | 2 |\n",
        "      -------------\n",
        "      | 3 | 4 | 5 |\n",
        "      -------------\n",
        "      | 6 | 7 | 8 |\n",
        "      -------------\n",
        "    \"\"\"\n",
        "    return EightPuzzleState(EIGHT_PUZZLE_DATA[puzzleNumber])\n",
        "\n",
        "def createRandomEightPuzzle(moves=100):\n",
        "    \"\"\"\n",
        "      moves: number of random moves to apply\n",
        "      Creates a random eight puzzle by applying\n",
        "      a series of 'moves' random moves to a solved\n",
        "      puzzle.\n",
        "    \"\"\"\n",
        "    puzzle = EightPuzzleState([0,1,2,3,4,5,6,7,8])\n",
        "    for i in range(moves):\n",
        "        # Execute a random legal move\n",
        "        puzzle = puzzle.result(random.sample(puzzle.legalMoves(), 1)[0])\n",
        "    return puzzle\n",
        "  \n",
        "print(loadEightPuzzle(puzzleNumber=4))"
      ],
      "execution_count": 6,
      "outputs": [
        {
          "output_type": "stream",
          "text": [
            "-------------\n",
            "| 1 | 2 | 5 |\n",
            "-------------\n",
            "| 7 | 6 | 8 |\n",
            "-------------\n",
            "|   | 4 | 3 |\n",
            "-------------\n"
          ],
          "name": "stdout"
        }
      ]
    },
    {
      "cell_type": "code",
      "metadata": {
        "id": "-fddwO-KdZol",
        "colab_type": "code",
        "outputId": "3b610f36-cfd4-46d0-cd70-1a85ef2a8272",
        "colab": {
          "base_uri": "https://localhost:8080/",
          "height": 134
        }
      },
      "source": [
        "print(loadEightPuzzle(puzzleNumber=1))"
      ],
      "execution_count": 0,
      "outputs": [
        {
          "output_type": "stream",
          "text": [
            "-------------\n",
            "| 1 | 7 | 8 |\n",
            "-------------\n",
            "| 2 | 3 | 4 |\n",
            "-------------\n",
            "| 5 | 6 |   |\n",
            "-------------\n"
          ],
          "name": "stdout"
        }
      ]
    },
    {
      "cell_type": "markdown",
      "metadata": {
        "id": "S9JSuFrQdZon",
        "colab_type": "text"
      },
      "source": [
        "## Definindo o problema em termos de buscas"
      ]
    },
    {
      "cell_type": "code",
      "metadata": {
        "id": "gr-RG6N3dZoo",
        "colab_type": "code",
        "colab": {}
      },
      "source": [
        "class SearchProblem:\n",
        "    \"\"\"\n",
        "    This class outlines the structure of a search problem, but doesn't implement\n",
        "    any of the methods (in object-oriented terminology: an abstract class).\n",
        "    You do not need to change anything in this class, ever.\n",
        "    \"\"\"\n",
        "\n",
        "    def getStartState(self):\n",
        "        \"\"\"\n",
        "        Returns the start state for the search problem.\n",
        "        \"\"\"\n",
        "        raise NotImplementedError()\n",
        "\n",
        "    def isGoalState(self, state):\n",
        "        \"\"\"\n",
        "          state: Search state\n",
        "        Returns True if and only if the state is a valid goal state.\n",
        "        \"\"\"\n",
        "        raise NotImplementedError()\n",
        "\n",
        "    def getSuccessors(self, state):\n",
        "        \"\"\"\n",
        "          state: Search state\n",
        "        For a given state, this should return a list of triples, (successor,\n",
        "        action, stepCost), where 'successor' is a successor to the current\n",
        "        state, 'action' is the action required to get there, and 'stepCost' is\n",
        "        the incremental cost of expanding to that successor.\n",
        "        \"\"\"\n",
        "        raise NotImplementedError()\n",
        "\n",
        "    def getCostOfActions(self, actions):\n",
        "        \"\"\"\n",
        "         actions: A list of actions to take\n",
        "        This method returns the total cost of a particular sequence of actions.\n",
        "        The sequence must be composed of legal moves.\n",
        "        \"\"\"\n",
        "        raise NotImplementedError()\n",
        "        \n",
        "class EightPuzzleSearchProblem(SearchProblem):\n",
        "    \"\"\"\n",
        "      Implementation of a SearchProblem for the  Eight Puzzle domain\n",
        "      Each state is represented by an instance of an eightPuzzle.\n",
        "    \"\"\"\n",
        "    def __init__(self,puzzle):\n",
        "        \"Creates a new EightPuzzleSearchProblem which stores search information.\"\n",
        "        self.puzzle = puzzle\n",
        "\n",
        "    def getStartState(self):\n",
        "        return puzzle\n",
        "\n",
        "    def isGoalState(self,state):\n",
        "        return state.isGoal()\n",
        "\n",
        "    def getSuccessors(self,state):\n",
        "        \"\"\"\n",
        "          Returns list of (successor, action, stepCost) pairs where\n",
        "          each succesor is either left, right, up, or down\n",
        "          from the original state and the cost is 1.0 for each\n",
        "        \"\"\"\n",
        "        succ = []\n",
        "        for a in state.legalMoves():\n",
        "            succ.append((state.result(a), a, 1))\n",
        "        return succ\n",
        "\n",
        "    def getCostOfActions(self, actions):\n",
        "        \"\"\"\n",
        "         actions: A list of actions to take\n",
        "        This method returns the total cost of a particular sequence of actions.  The sequence must\n",
        "        be composed of legal moves\n",
        "        \"\"\"\n",
        "        return len(actions)"
      ],
      "execution_count": 0,
      "outputs": []
    },
    {
      "cell_type": "markdown",
      "metadata": {
        "id": "x2uDFXJ8dnRW",
        "colab_type": "text"
      },
      "source": [
        "Testando:"
      ]
    },
    {
      "cell_type": "code",
      "metadata": {
        "id": "sXItlZz6dZoq",
        "colab_type": "code",
        "outputId": "abfa0821-906b-406f-be94-9acf3ff6ad33",
        "colab": {
          "base_uri": "https://localhost:8080/",
          "height": 151
        }
      },
      "source": [
        "EIGHT_PUZZLE_DATA = [[1, 0, 2, 3, 4, 5, 6, 7, 8],\n",
        "                     [1, 7, 8, 2, 3, 4, 5, 6, 0],\n",
        "                     [4, 3, 2, 7, 0, 5, 1, 6, 8],\n",
        "                     [5, 1, 3, 4, 0, 2, 6, 7, 8],\n",
        "                     [1, 2, 5, 7, 6, 8, 0, 4, 3],\n",
        "                     [0, 3, 1, 6, 8, 2, 7, 5, 4]]\n",
        "\n",
        "def loadEightPuzzle(puzzleNumber):\n",
        "    \"\"\"\n",
        "      puzzleNumber: The number of the eight puzzle to load.\n",
        "      Returns an eight puzzle object generated from one of the\n",
        "      provided puzzles in EIGHT_PUZZLE_DATA.\n",
        "      puzzleNumber can range from 0 to 5.\n",
        "      >>> print loadEightPuzzle(0)\n",
        "      -------------\n",
        "      | 1 |   | 2 |\n",
        "      -------------\n",
        "      | 3 | 4 | 5 |\n",
        "      -------------\n",
        "      | 6 | 7 | 8 |\n",
        "      -------------\n",
        "    \"\"\"\n",
        "    return EightPuzzleState(EIGHT_PUZZLE_DATA[puzzleNumber])\n",
        "\n",
        "def createRandomEightPuzzle(moves=100):\n",
        "    \"\"\"\n",
        "      moves: number of random moves to apply\n",
        "      Creates a random eight puzzle by applying\n",
        "      a series of 'moves' random moves to a solved\n",
        "      puzzle.\n",
        "    \"\"\"\n",
        "    puzzle = EightPuzzleState([0,1,2,3,4,5,6,7,8])\n",
        "    for i in range(moves):\n",
        "        # Execute a random legal move\n",
        "        puzzle = puzzle.result(random.sample(puzzle.legalMoves(), 1)[0])\n",
        "    return puzzle\n",
        "\n",
        "puzzle = loadEightPuzzle(puzzleNumber=0)\n",
        "print(puzzle)\n",
        "print(puzzle.legalMoves())"
      ],
      "execution_count": 8,
      "outputs": [
        {
          "output_type": "stream",
          "text": [
            "-------------\n",
            "| 1 |   | 2 |\n",
            "-------------\n",
            "| 3 | 4 | 5 |\n",
            "-------------\n",
            "| 6 | 7 | 8 |\n",
            "-------------\n",
            "['down', 'left', 'right']\n"
          ],
          "name": "stdout"
        }
      ]
    },
    {
      "cell_type": "code",
      "metadata": {
        "id": "mDxYnFKFdZot",
        "colab_type": "code",
        "outputId": "2c444a36-089e-41e2-d7fc-9de74ec8d4b9",
        "colab": {
          "base_uri": "https://localhost:8080/",
          "height": 521
        }
      },
      "source": [
        "class SearchProblem:\n",
        "    \"\"\"\n",
        "    This class outlines the structure of a search problem, but doesn't implement\n",
        "    any of the methods (in object-oriented terminology: an abstract class).\n",
        "    You do not need to change anything in this class, ever.\n",
        "    \"\"\"\n",
        "\n",
        "    def getStartState(self):\n",
        "        \"\"\"\n",
        "        Returns the start state for the search problem.\n",
        "        \"\"\"\n",
        "        raise NotImplementedError()\n",
        "\n",
        "    def isGoalState(self, state):\n",
        "        \"\"\"\n",
        "          state: Search state\n",
        "        Returns True if and only if the state is a valid goal state.\n",
        "        \"\"\"\n",
        "        raise NotImplementedError()\n",
        "\n",
        "    def getSuccessors(self, state):\n",
        "        \"\"\"\n",
        "          state: Search state\n",
        "        For a given state, this should return a list of triples, (successor,\n",
        "        action, stepCost), where 'successor' is a successor to the current\n",
        "        state, 'action' is the action required to get there, and 'stepCost' is\n",
        "        the incremental cost of expanding to that successor.\n",
        "        \"\"\"\n",
        "        raise NotImplementedError()\n",
        "\n",
        "    def getCostOfActions(self, actions):\n",
        "        \"\"\"\n",
        "         actions: A list of actions to take\n",
        "        This method returns the total cost of a particular sequence of actions.\n",
        "        The sequence must be composed of legal moves.\n",
        "        \"\"\"\n",
        "        raise NotImplementedError()\n",
        "        \n",
        "class EightPuzzleSearchProblem(SearchProblem):\n",
        "    \"\"\"\n",
        "      Implementation of a SearchProblem for the  Eight Puzzle domain\n",
        "      Each state is represented by an instance of an eightPuzzle.\n",
        "    \"\"\"\n",
        "    def __init__(self,puzzle):\n",
        "        \"Creates a new EightPuzzleSearchProblem which stores search information.\"\n",
        "        self.puzzle = puzzle\n",
        "\n",
        "    def getStartState(self):\n",
        "        return puzzle\n",
        "\n",
        "    def isGoalState(self,state):\n",
        "        return state.isGoal()\n",
        "\n",
        "    def getSuccessors(self,state):\n",
        "        \"\"\"\n",
        "          Returns list of (successor, action, stepCost) pairs where\n",
        "          each succesor is either left, right, up, or down\n",
        "          from the original state and the cost is 1.0 for each\n",
        "        \"\"\"\n",
        "        succ = []\n",
        "        for a in state.legalMoves():\n",
        "            succ.append((state.result(a), a, 1))\n",
        "        return succ\n",
        "\n",
        "    def getCostOfActions(self, actions):\n",
        "        \"\"\"\n",
        "         actions: A list of actions to take\n",
        "        This method returns the total cost of a particular sequence of actions.  The sequence must\n",
        "        be composed of legal moves\n",
        "        \"\"\"\n",
        "        return len(actions)\n",
        "\n",
        "search_problem = EightPuzzleSearchProblem(puzzle)\n",
        "\n",
        "for p in search_problem.getSuccessors(puzzle):\n",
        "  print(p[1])\n",
        "  print(p[0])\n",
        "  print('isGoal?', search_problem.isGoalState(p[0]))\n",
        "  print()"
      ],
      "execution_count": 0,
      "outputs": [
        {
          "output_type": "stream",
          "text": [
            "down\n",
            "-------------\n",
            "| 1 | 4 | 2 |\n",
            "-------------\n",
            "| 3 |   | 5 |\n",
            "-------------\n",
            "| 6 | 7 | 8 |\n",
            "-------------\n",
            "isGoal? False\n",
            "\n",
            "left\n",
            "-------------\n",
            "|   | 1 | 2 |\n",
            "-------------\n",
            "| 3 | 4 | 5 |\n",
            "-------------\n",
            "| 6 | 7 | 8 |\n",
            "-------------\n",
            "isGoal? True\n",
            "\n",
            "right\n",
            "-------------\n",
            "| 1 | 2 |   |\n",
            "-------------\n",
            "| 3 | 4 | 5 |\n",
            "-------------\n",
            "| 6 | 7 | 8 |\n",
            "-------------\n",
            "isGoal? False\n",
            "\n"
          ],
          "name": "stdout"
        }
      ]
    },
    {
      "cell_type": "markdown",
      "metadata": {
        "id": "qgW0l-f5hW0t",
        "colab_type": "text"
      },
      "source": [
        "# Exercício"
      ]
    },
    {
      "cell_type": "markdown",
      "metadata": {
        "id": "aO_CriR1hayj",
        "colab_type": "text"
      },
      "source": [
        "## Exercicio 1:\n",
        "Implemente o algoritmo de Busca em Largura que recebe uma instância de `SearchProblem`:"
      ]
    },
    {
      "cell_type": "code",
      "metadata": {
        "id": "E-SP_gG6ewYD",
        "colab_type": "code",
        "outputId": "ec638234-6c21-4ea2-a11f-a21dc4aa4056",
        "colab": {
          "base_uri": "https://localhost:8080/",
          "height": 128
        }
      },
      "source": [
        "def breadthFirstSearch(problem):\n",
        "  \"\"\"\n",
        "    *** YOUR CODE HERE ***\n",
        "    \"\"\"\n",
        "    raise NotImplementedError()\n",
        "  "
      ],
      "execution_count": 0,
      "outputs": [
        {
          "output_type": "error",
          "ename": "IndentationError",
          "evalue": "ignored",
          "traceback": [
            "\u001b[0;36m  File \u001b[0;32m\"<ipython-input-86-7b3b17c45dd2>\"\u001b[0;36m, line \u001b[0;32m5\u001b[0m\n\u001b[0;31m    raise NotImplementedError()\u001b[0m\n\u001b[0m    ^\u001b[0m\n\u001b[0;31mIndentationError\u001b[0m\u001b[0;31m:\u001b[0m unexpected indent\n"
          ]
        }
      ]
    },
    {
      "cell_type": "code",
      "metadata": {
        "id": "sIJgdGewPzNU",
        "colab_type": "code",
        "outputId": "8944811a-8b91-4f2a-941f-650becf1390a",
        "colab": {
          "base_uri": "https://localhost:8080/",
          "height": 386
        }
      },
      "source": [
        "def breadthFirstSearch(problem):\n",
        "  \n",
        "  start = problem.getStartState()\n",
        "  visited =[]\n",
        "  fringe = [(start)]\n",
        "  print(start)\n",
        "  while len(fringe)>0:\n",
        "    node = fringe[0]\n",
        "    fringe.remove(node)\n",
        "    visited.append(node)\n",
        "    if problem.isGoalState(node):\n",
        "        print('is a Goal')\n",
        "        print(node)\n",
        "        break\n",
        "    for p in problem.getSuccessors(node):\n",
        "      if p[0] not in visited:\n",
        "        fringe.append((p[0]))\n",
        "       \n",
        "      \n",
        "  \n",
        "  \n",
        "  \n",
        "jogo1 = createRandomEightPuzzle(10)\n",
        "print(jogo1)\n",
        "teste = EightPuzzleSearchProblem(jogo1)\n",
        "\n",
        "breadthFirstSearch(teste)"
      ],
      "execution_count": 12,
      "outputs": [
        {
          "output_type": "stream",
          "text": [
            "-------------\n",
            "| 1 | 2 | 5 |\n",
            "-------------\n",
            "| 3 |   | 4 |\n",
            "-------------\n",
            "| 6 | 7 | 8 |\n",
            "-------------\n",
            "-------------\n",
            "| 1 |   | 2 |\n",
            "-------------\n",
            "| 3 | 4 | 5 |\n",
            "-------------\n",
            "| 6 | 7 | 8 |\n",
            "-------------\n",
            "is a Goal\n",
            "-------------\n",
            "|   | 1 | 2 |\n",
            "-------------\n",
            "| 3 | 4 | 5 |\n",
            "-------------\n",
            "| 6 | 7 | 8 |\n",
            "-------------\n"
          ],
          "name": "stdout"
        }
      ]
    },
    {
      "cell_type": "markdown",
      "metadata": {
        "colab_type": "text",
        "id": "zAnlbH0cljWN"
      },
      "source": [
        "## Exercicio 2:\n",
        "Implemente o algoritmo de Busca em Profundidade que recebe uma instância de `SearchProblem`:"
      ]
    },
    {
      "cell_type": "code",
      "metadata": {
        "colab_type": "code",
        "id": "tL4OuYsrljWT",
        "colab": {}
      },
      "source": [
        "def depthFirstSearch(problem):\n",
        "  start = problem.getStartState()\n",
        "  fringe =  [(start,True)]\n",
        "\n",
        "  for p in problem.getSuccessors()\n",
        "  raise NotImplementedError()"
      ],
      "execution_count": 0,
      "outputs": []
    },
    {
      "cell_type": "markdown",
      "metadata": {
        "colab_type": "text",
        "id": "z7IcKRI2lk_M"
      },
      "source": [
        "## Exercicio 3:\n",
        "Implemente o algoritmo de Busca de Custo Uniforme que recebe uma instância de `SearchProblem`:"
      ]
    },
    {
      "cell_type": "code",
      "metadata": {
        "colab_type": "code",
        "id": "vVg_P2srlk_O",
        "colab": {}
      },
      "source": [
        "def uniformCostSearch(problem):\n",
        "    \"\"\"\n",
        "    *** YOUR CODE HERE ***\n",
        "    \"\"\"\n",
        "    raise NotImplementedError()"
      ],
      "execution_count": 0,
      "outputs": []
    },
    {
      "cell_type": "markdown",
      "metadata": {
        "colab_type": "text",
        "id": "Y5f7eooAlmkE"
      },
      "source": [
        "## Exercicio 4:\n",
        "Implemente uma heurística para o problema e o algoritmo de Busca A* que recebe uma instância de `SearchProblem`:"
      ]
    },
    {
      "cell_type": "code",
      "metadata": {
        "colab_type": "code",
        "id": "p0ketmzelmkH",
        "colab": {}
      },
      "source": [
        "def heuristicEightNumbers():\n",
        "    raise NotImplementedError()\n",
        "\n",
        "def aStarSearch(problem):\n",
        "    \"\"\"\n",
        "    *** YOUR CODE HERE ***\n",
        "    \"\"\"\n",
        "    raise NotImplementedError()"
      ],
      "execution_count": 0,
      "outputs": []
    },
    {
      "cell_type": "markdown",
      "metadata": {
        "colab_type": "text",
        "id": "wtVxZPV6lnCG"
      },
      "source": [
        "## Exercicio 5:\n",
        "Compare os resultados obtidos por cada algoritmo"
      ]
    },
    {
      "cell_type": "code",
      "metadata": {
        "colab_type": "code",
        "id": "EgNhexv3lnCI",
        "colab": {}
      },
      "source": [
        ""
      ],
      "execution_count": 0,
      "outputs": []
    }
  ]
}